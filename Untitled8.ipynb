{
  "nbformat": 4,
  "nbformat_minor": 0,
  "metadata": {
    "colab": {
      "name": "Untitled8.ipynb",
      "provenance": [],
      "authorship_tag": "ABX9TyNabctSz0qoCwzzX6uQPIhN",
      "include_colab_link": true
    },
    "kernelspec": {
      "name": "python3",
      "display_name": "Python 3"
    },
    "language_info": {
      "name": "python"
    }
  },
  "cells": [
    {
      "cell_type": "markdown",
      "metadata": {
        "id": "view-in-github",
        "colab_type": "text"
      },
      "source": [
        "<a href=\"https://colab.research.google.com/github/aakash2314/cs419assign/blob/main/Untitled8.ipynb\" target=\"_parent\"><img src=\"https://colab.research.google.com/assets/colab-badge.svg\" alt=\"Open In Colab\"/></a>"
      ]
    },
    {
      "cell_type": "code",
      "source": [
        "import numpy as np\n",
        "import pandas as pd\n",
        "import matplotlib"
      ],
      "metadata": {
        "id": "OwHitQXJCF_f"
      },
      "execution_count": 72,
      "outputs": []
    },
    {
      "cell_type": "code",
      "source": [
        "def get_labeled_features(file_path):\n",
        "    \"\"\"Read data from train.csv and split into train and dev sets. Do any\n",
        "       preprocessing/augmentation steps here and return final features.\n",
        "    \n",
        "    Args:\n",
        "        file_path (str): path to train.csv\n",
        "\n",
        "    Returns:\n",
        "        phi_train, y_train, phi_dev, y_dev\n",
        "    \"\"\"\n",
        "    df = pd.read_csv('train.csv')\n",
        "    df = df.drop_duplicates()\n",
        "    df['type'] = df['type'].replace(['white','red'],[0,1])\n",
        "    test_ratio = 0.2\n",
        "    train_ratio = 1- test_ratio\n",
        "    train_count = int(train_ratio*len(df))\n",
        "    train_X = df.iloc[:train_count,:-1].to_numpy()\n",
        "    train_y = df.iloc[:train_count,-1].to_numpy()\n",
        "    validate_X = df.iloc[train_count:,:-1].to_numpy()\n",
        "    validate_y = df.iloc[train_count:,-1].to_numpy()\n",
        "    \n",
        "    return train_X,train_y, validate_X, validate_y"
      ],
      "metadata": {
        "id": "6T3w_ReC_uno"
      },
      "execution_count": 73,
      "outputs": []
    },
    {
      "cell_type": "code",
      "source": [
        "def get_test_features(file_path):\n",
        "    \"\"\"Read test data, perform required preproccessing / augmentation\n",
        "       and return final feature matrix.\n",
        "\n",
        "    Args:\n",
        "        file_path (str): path to test.csv\n",
        "\n",
        "    Returns:\n",
        "        phi_test: matrix of size (m,n) where m is number of test instances\n",
        "                  and n is the dimension of the feature space.\n",
        "    \"\"\"\n",
        "    df = pd.read_csv('test.csv')\n",
        "    phi_test = df.values\n",
        "    \n",
        "    return phi_test"
      ],
      "metadata": {
        "id": "wl5b2jpE_xK4"
      },
      "execution_count": 74,
      "outputs": []
    },
    {
      "cell_type": "code",
      "source": [
        "def compute_RMSE(phi, w , y) :\n",
        "\t# Root Mean Squared Error\n",
        "    m = phi.shape[0]\n",
        "    error = np.sum((y-phi.dot(w))**2)\n",
        "    return np.sqrt(error)/m"
      ],
      "metadata": {
        "id": "eL4iFiU0E8lb"
      },
      "execution_count": 75,
      "outputs": []
    },
    {
      "cell_type": "code",
      "source": [
        "def gradient_descent(phi, y, phi_dev, y_dev) :\n",
        "\t# Mean Squared Error\n",
        "    m = phi.shape[0]\n",
        "    w= np.random.rand(phi.shape[1]).reshape((phi.shape[1],1))\n",
        "    w_old = np.zeros(phi.shape[1]).reshape((phi.shape[1],1))\n",
        "    \n",
        "    learning_rate = 0.001\n",
        "\n",
        "    while np.sum((w_old-w)**2)>0.000000001:\n",
        "        prediction = np.dot(phi, w)\n",
        "        w_old = w\n",
        "        w = w - (1/m)*learning_rate*((phi.T).dot(prediction-y))\n",
        "        \n",
        "    return w"
      ],
      "metadata": {
        "id": "5EEmH7jl8rLd"
      },
      "execution_count": 76,
      "outputs": []
    },
    {
      "cell_type": "code",
      "source": [
        "def sgd(phi, y) :\n",
        "  \n",
        "\t# Mean Squared Error\n",
        "\n",
        "    m = phi.shape[0]\n",
        "    w= np.random.rand(phi.shape[1]).reshape((phi.shape[1],1))\n",
        "    w_old = np.zeros(phi.shape[1]).reshape((phi.shape[1],1))\n",
        "    \n",
        "    learning_rate = 0.001\n",
        "    num_divisions = 10\n",
        "    phi_split=np.array_split(phi, num_divisions)\n",
        "    print(phi_split[0].shape[0])\n",
        "    y = y[:phi_split[0].shape[0],:]\n",
        "    while np.sum((w_old-w)**2)>0.000000001:\n",
        "        for subphi in phi_split:\n",
        "            prediction = np.dot(subphi, w)\n",
        "            w_old = w\n",
        "            print(subphi.T.shape)\n",
        "            print(prediction.shape)\n",
        "            print(y.shape)\n",
        "            #w = w - (1/m)learning_rate((subphi.T).dot(prediction-y))\n",
        "            if np.sum((w_old-w)**2)<0.000000001:\n",
        "                break\n",
        "    return w\n"
      ],
      "metadata": {
        "id": "0dORJ3td9H1B"
      },
      "execution_count": 77,
      "outputs": []
    },
    {
      "cell_type": "code",
      "source": [
        "def pnorm(phi, y, p) :\n",
        "\t# Mean Squared Error\n",
        "    lamda=10\n",
        "    w = gradient_descent(phi,y)\n",
        "    w_t=np.sum(np.power(w,p))\n",
        "    if p==2:\n",
        "        wi=np.sqrt(w_t)\n",
        "    elif p==4:\n",
        "        wi=np.sqrt(np.sqrt(w_t))\n",
        "  \n",
        "    return lamda*wi\t"
      ],
      "metadata": {
        "id": "WMn7S_OY9LMv"
      },
      "execution_count": 78,
      "outputs": []
    },
    {
      "cell_type": "code",
      "source": [
        "def generate_output(phi_test, w):\n",
        "    \n",
        "    l=phi_test.dot(w)\n",
        "\n",
        "    out = open('output.csv', 'w')\n",
        "    out.write('ID,Fare\\n')\n",
        "    for idi,i in enumerate(l):\n",
        "        for column in i:\n",
        "            out.write(str(idi)+','+str(column))\n",
        "            out.write('\\n')\n",
        "        \n",
        "    out.close()\n",
        "\t# writes a file (output.csv) containing target variables in required format for Kaggle Submission.\n",
        "def closed_soln(phi, y):\n",
        "    # Function returns the solution w for Xw=y.\n",
        "    return np.linalg.pinv(phi).dot(y)"
      ],
      "metadata": {
        "id": "nEqIVy2s9jXN"
      },
      "execution_count": 79,
      "outputs": []
    },
    {
      "cell_type": "code",
      "source": [
        "def main():\n",
        "    \"\"\" \n",
        "    The following steps will be run in sequence by the autograder.\n",
        "    \"\"\"\n",
        "    ######## Task 2 #########\n",
        "    phi, y, phi_dev, y_dev = get_labeled_features('train.csv')\n",
        "    w1 = closed_soln(phi, y)\n",
        "    w2 = gradient_descent(phi, y, phi_dev, y_dev)\n",
        "    r1 = compute_RMSE(phi_dev, w1, y_dev)\n",
        "    r2 = compute_RMSE(phi_dev, w2, y_dev)\n",
        "    print('1a: ')\n",
        "    print(abs(r1-r2))\n",
        "    w3 = sgd(phi, y, phi_dev, y_dev)\n",
        "    r3 = compute_RMSE(phi_dev, w3, y_dev)\n",
        "    print('1c: ')\n",
        "    print(abs(r2-r3))\n",
        "\n",
        "    ######## Task 3 #########\n",
        "    w_p2 = pnorm(phi, y, phi_dev, y_dev, 2)  \n",
        "    w_p4 = pnorm(phi, y, phi_dev, y_dev, 4)  \n",
        "    r_p2 = compute_RMSE(phi_dev, w_p2, y_dev)\n",
        "    r_p4 = compute_RMSE(phi_dev, w_p4, y_dev)\n",
        "    print('2: pnorm2')\n",
        "    print(r_p2)\n",
        "    print('2: pnorm4')\n",
        "    print(r_p4)\n",
        "\n",
        "    ######## Task 6 #########\n",
        "    \n",
        "    # Add code to run your selected method here\n",
        "    # print RMSE on dev set with this method\n",
        "\n",
        "main()"
      ],
      "metadata": {
        "colab": {
          "base_uri": "https://localhost:8080/",
          "height": 432
        },
        "id": "CJeBCA0hB4-M",
        "outputId": "f65cfa0f-e8f8-4eb5-8132-c8c01fa575de"
      },
      "execution_count": 80,
      "outputs": [
        {
          "output_type": "stream",
          "name": "stderr",
          "text": [
            "/usr/local/lib/python3.7/dist-packages/numpy/core/fromnumeric.py:86: RuntimeWarning: overflow encountered in reduce\n",
            "  return ufunc.reduce(obj, axis, dtype, out, **passkwargs)\n",
            "/usr/local/lib/python3.7/dist-packages/ipykernel_launcher.py:9: RuntimeWarning: overflow encountered in square\n",
            "  if __name__ == '__main__':\n",
            "/usr/local/lib/python3.7/dist-packages/ipykernel_launcher.py:12: RuntimeWarning: invalid value encountered in subtract\n",
            "  if sys.path[0] == '':\n"
          ]
        },
        {
          "output_type": "error",
          "ename": "ValueError",
          "evalue": "ignored",
          "traceback": [
            "\u001b[0;31m---------------------------------------------------------------------------\u001b[0m",
            "\u001b[0;31mValueError\u001b[0m                                Traceback (most recent call last)",
            "\u001b[0;32m<ipython-input-80-934035a7a5d6>\u001b[0m in \u001b[0;36m<module>\u001b[0;34m()\u001b[0m\n\u001b[1;32m     31\u001b[0m     \u001b[0;31m# print RMSE on dev set with this method\u001b[0m\u001b[0;34m\u001b[0m\u001b[0;34m\u001b[0m\u001b[0;34m\u001b[0m\u001b[0m\n\u001b[1;32m     32\u001b[0m \u001b[0;34m\u001b[0m\u001b[0m\n\u001b[0;32m---> 33\u001b[0;31m \u001b[0mmain\u001b[0m\u001b[0;34m(\u001b[0m\u001b[0;34m)\u001b[0m\u001b[0;34m\u001b[0m\u001b[0;34m\u001b[0m\u001b[0m\n\u001b[0m",
            "\u001b[0;32m<ipython-input-80-934035a7a5d6>\u001b[0m in \u001b[0;36mmain\u001b[0;34m()\u001b[0m\n\u001b[1;32m      8\u001b[0m     \u001b[0mw2\u001b[0m \u001b[0;34m=\u001b[0m \u001b[0mgradient_descent\u001b[0m\u001b[0;34m(\u001b[0m\u001b[0mphi\u001b[0m\u001b[0;34m,\u001b[0m \u001b[0my\u001b[0m\u001b[0;34m,\u001b[0m \u001b[0mphi_dev\u001b[0m\u001b[0;34m,\u001b[0m \u001b[0my_dev\u001b[0m\u001b[0;34m)\u001b[0m\u001b[0;34m\u001b[0m\u001b[0;34m\u001b[0m\u001b[0m\n\u001b[1;32m      9\u001b[0m     \u001b[0mr1\u001b[0m \u001b[0;34m=\u001b[0m \u001b[0mcompute_RMSE\u001b[0m\u001b[0;34m(\u001b[0m\u001b[0mphi_dev\u001b[0m\u001b[0;34m,\u001b[0m \u001b[0mw1\u001b[0m\u001b[0;34m,\u001b[0m \u001b[0my_dev\u001b[0m\u001b[0;34m)\u001b[0m\u001b[0;34m\u001b[0m\u001b[0;34m\u001b[0m\u001b[0m\n\u001b[0;32m---> 10\u001b[0;31m     \u001b[0mr2\u001b[0m \u001b[0;34m=\u001b[0m \u001b[0mcompute_RMSE\u001b[0m\u001b[0;34m(\u001b[0m\u001b[0mphi_dev\u001b[0m\u001b[0;34m,\u001b[0m \u001b[0mw2\u001b[0m\u001b[0;34m,\u001b[0m \u001b[0my_dev\u001b[0m\u001b[0;34m)\u001b[0m\u001b[0;34m\u001b[0m\u001b[0;34m\u001b[0m\u001b[0m\n\u001b[0m\u001b[1;32m     11\u001b[0m     \u001b[0mprint\u001b[0m\u001b[0;34m(\u001b[0m\u001b[0;34m'1a: '\u001b[0m\u001b[0;34m)\u001b[0m\u001b[0;34m\u001b[0m\u001b[0;34m\u001b[0m\u001b[0m\n\u001b[1;32m     12\u001b[0m     \u001b[0mprint\u001b[0m\u001b[0;34m(\u001b[0m\u001b[0mabs\u001b[0m\u001b[0;34m(\u001b[0m\u001b[0mr1\u001b[0m\u001b[0;34m-\u001b[0m\u001b[0mr2\u001b[0m\u001b[0;34m)\u001b[0m\u001b[0;34m)\u001b[0m\u001b[0;34m\u001b[0m\u001b[0;34m\u001b[0m\u001b[0m\n",
            "\u001b[0;32m<ipython-input-75-702619dbe176>\u001b[0m in \u001b[0;36mcompute_RMSE\u001b[0;34m(phi, w, y)\u001b[0m\n\u001b[1;32m      2\u001b[0m         \u001b[0;31m# Root Mean Squared Error\u001b[0m\u001b[0;34m\u001b[0m\u001b[0;34m\u001b[0m\u001b[0;34m\u001b[0m\u001b[0m\n\u001b[1;32m      3\u001b[0m     \u001b[0mm\u001b[0m \u001b[0;34m=\u001b[0m \u001b[0mphi\u001b[0m\u001b[0;34m.\u001b[0m\u001b[0mshape\u001b[0m\u001b[0;34m[\u001b[0m\u001b[0;36m0\u001b[0m\u001b[0;34m]\u001b[0m\u001b[0;34m\u001b[0m\u001b[0;34m\u001b[0m\u001b[0m\n\u001b[0;32m----> 4\u001b[0;31m     \u001b[0merror\u001b[0m \u001b[0;34m=\u001b[0m \u001b[0mnp\u001b[0m\u001b[0;34m.\u001b[0m\u001b[0msum\u001b[0m\u001b[0;34m(\u001b[0m\u001b[0;34m(\u001b[0m\u001b[0my\u001b[0m\u001b[0;34m-\u001b[0m\u001b[0mphi\u001b[0m\u001b[0;34m.\u001b[0m\u001b[0mdot\u001b[0m\u001b[0;34m(\u001b[0m\u001b[0mw\u001b[0m\u001b[0;34m)\u001b[0m\u001b[0;34m)\u001b[0m\u001b[0;34m**\u001b[0m\u001b[0;36m2\u001b[0m\u001b[0;34m)\u001b[0m\u001b[0;34m\u001b[0m\u001b[0;34m\u001b[0m\u001b[0m\n\u001b[0m\u001b[1;32m      5\u001b[0m     \u001b[0;32mreturn\u001b[0m \u001b[0mnp\u001b[0m\u001b[0;34m.\u001b[0m\u001b[0msqrt\u001b[0m\u001b[0;34m(\u001b[0m\u001b[0merror\u001b[0m\u001b[0;34m)\u001b[0m\u001b[0;34m/\u001b[0m\u001b[0mm\u001b[0m\u001b[0;34m\u001b[0m\u001b[0;34m\u001b[0m\u001b[0m\n",
            "\u001b[0;31mValueError\u001b[0m: operands could not be broadcast together with shapes (688,) (688,2749) "
          ]
        }
      ]
    }
  ]
}